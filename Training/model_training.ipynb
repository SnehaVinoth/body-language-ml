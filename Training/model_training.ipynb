{
 "cells": [
  {
   "cell_type": "markdown",
   "id": "89105f77",
   "metadata": {},
   "source": [
    "# Decoding Body Language with MediaPipe"
   ]
  },
  {
   "cell_type": "markdown",
   "id": "7fb4796c",
   "metadata": {},
   "source": [
    "## Data Collection and Preparation"
   ]
  },
  {
   "cell_type": "markdown",
   "id": "b0d5f55b",
   "metadata": {},
   "source": [
    "### Import Necessary Libraries"
   ]
  },
  {
   "cell_type": "code",
   "execution_count": 1,
   "id": "edfc8e5c",
   "metadata": {},
   "outputs": [],
   "source": [
    "import pandas as pd\n",
    "from sklearn.model_selection import train_test_split\n",
    "import matplotlib.pyplot as plt\n"
   ]
  },
  {
   "cell_type": "markdown",
   "id": "05a8b5c2",
   "metadata": {},
   "source": [
    "### Read the Collected Data"
   ]
  },
  {
   "cell_type": "code",
   "execution_count": 2,
   "id": "edc4ac36",
   "metadata": {},
   "outputs": [],
   "source": [
    "df = pd.read_csv('/Users/snehavinothkumar/VS Code/AI_Body_Language_Detector/Dataset/coords.csv')\n",
    "column_names = ['class'] + [f'column_{i}' for i in range(1,len(df.columns))]\n",
    "df.columns = column_names"
   ]
  },
  {
   "cell_type": "code",
   "execution_count": 3,
   "id": "05568a04",
   "metadata": {},
   "outputs": [
    {
     "name": "stdout",
     "output_type": "stream",
     "text": [
      "   class  column_1  column_2  column_3  column_4  column_5  column_6  \\\n",
      "0  Happy  0.502649  0.576104 -0.954644  0.999520  0.522585  0.504460   \n",
      "1  Happy  0.502332  0.576614 -0.971868  0.999475  0.522869  0.505447   \n",
      "2  Happy  0.501976  0.576764 -0.970228  0.999449  0.523090  0.506141   \n",
      "3  Happy  0.501356  0.576744 -0.968692  0.999449  0.523167  0.506666   \n",
      "4  Happy  0.501276  0.577236 -0.963410  0.999442  0.523509  0.508068   \n",
      "\n",
      "   column_7  column_8  column_9  ...  column_1995  column_1996  column_1997  \\\n",
      "0 -0.901327  0.998642  0.537913  ...     0.001765          0.0     0.558403   \n",
      "1 -0.919603  0.998511  0.538094  ...    -0.001878          0.0     0.558888   \n",
      "2 -0.917503  0.998430  0.538205  ...    -0.002567          0.0     0.558655   \n",
      "3 -0.916380  0.998429  0.538266  ...    -0.002039          0.0     0.558780   \n",
      "4 -0.911292  0.998407  0.538552  ...    -0.001788          0.0     0.558947   \n",
      "\n",
      "   column_1998  column_1999  column_2000  column_2001  column_2002  \\\n",
      "0     0.506414     0.019434          0.0     0.563330     0.500052   \n",
      "1     0.504216     0.015673          0.0     0.563779     0.497830   \n",
      "2     0.505383     0.014867          0.0     0.563611     0.498647   \n",
      "3     0.505993     0.015232          0.0     0.563955     0.498084   \n",
      "4     0.505676     0.016318          0.0     0.564032     0.498053   \n",
      "\n",
      "   column_2003  column_2004  \n",
      "0     0.020007          0.0  \n",
      "1     0.016278          0.0  \n",
      "2     0.015567          0.0  \n",
      "3     0.016068          0.0  \n",
      "4     0.017234          0.0  \n",
      "\n",
      "[5 rows x 2005 columns]\n",
      "     class  column_1  column_2  column_3  column_4  column_5  column_6  \\\n",
      "906  Fight  0.479267  0.667088 -0.924598  0.999997  0.502316  0.589957   \n",
      "907  Fight  0.483489  0.666870 -0.689664  0.999996  0.507360  0.588808   \n",
      "908  Fight  0.485433  0.651903 -0.773182  0.999994  0.508685  0.572377   \n",
      "909  Fight  0.486177  0.651478 -0.858107  0.999982  0.510582  0.571991   \n",
      "910  Fight  0.486643  0.648064 -0.818749  0.999966  0.513067  0.569801   \n",
      "\n",
      "     column_7  column_8  column_9  ...  column_1995  column_1996  column_1997  \\\n",
      "906 -0.886221  0.999993  0.518642  ...    -0.005970          0.0     0.544456   \n",
      "907 -0.627272  0.999991  0.523153  ...    -0.005766          0.0     0.546775   \n",
      "908 -0.738325  0.999982  0.524081  ...    -0.004099          0.0     0.547476   \n",
      "909 -0.821595  0.999957  0.525313  ...    -0.003847          0.0     0.549310   \n",
      "910 -0.785592  0.999899  0.527980  ...    -0.004169          0.0     0.550075   \n",
      "\n",
      "     column_1998  column_1999  column_2000  column_2001  column_2002  \\\n",
      "906     0.566999     0.011954          0.0     0.548864     0.562077   \n",
      "907     0.564972     0.012691          0.0     0.551221     0.560178   \n",
      "908     0.562012     0.014735          0.0     0.551924     0.557242   \n",
      "909     0.560489     0.015249          0.0     0.553731     0.555523   \n",
      "910     0.557494     0.014259          0.0     0.554649     0.552138   \n",
      "\n",
      "     column_2003  column_2004  \n",
      "906     0.012354          0.0  \n",
      "907     0.013146          0.0  \n",
      "908     0.015247          0.0  \n",
      "909     0.015787          0.0  \n",
      "910     0.014792          0.0  \n",
      "\n",
      "[5 rows x 2005 columns]\n"
     ]
    }
   ],
   "source": [
    "print(df.head())\n",
    "print(df.tail())"
   ]
  },
  {
   "cell_type": "markdown",
   "id": "4a8f3451",
   "metadata": {},
   "source": [
    "## Exploratory Data Analysis"
   ]
  },
  {
   "cell_type": "markdown",
   "id": "a991d0ea",
   "metadata": {},
   "source": [
    "### Descriptive Analysis"
   ]
  },
  {
   "cell_type": "code",
   "execution_count": 4,
   "id": "418bae1d",
   "metadata": {},
   "outputs": [
    {
     "name": "stdout",
     "output_type": "stream",
     "text": [
      "<class 'pandas.core.frame.DataFrame'>\n",
      "RangeIndex: 911 entries, 0 to 910\n",
      "Columns: 2005 entries, class to column_2004\n",
      "dtypes: float64(2004), object(1)\n",
      "memory usage: 13.9+ MB\n",
      "None\n",
      "\n",
      "(911, 2005)\n",
      "\n",
      "<bound method NDFrame.describe of      class  column_1  column_2  column_3  column_4  column_5  column_6  \\\n",
      "0    Happy  0.502649  0.576104 -0.954644  0.999520  0.522585  0.504460   \n",
      "1    Happy  0.502332  0.576614 -0.971868  0.999475  0.522869  0.505447   \n",
      "2    Happy  0.501976  0.576764 -0.970228  0.999449  0.523090  0.506141   \n",
      "3    Happy  0.501356  0.576744 -0.968692  0.999449  0.523167  0.506666   \n",
      "4    Happy  0.501276  0.577236 -0.963410  0.999442  0.523509  0.508068   \n",
      "..     ...       ...       ...       ...       ...       ...       ...   \n",
      "906  Fight  0.479267  0.667088 -0.924598  0.999997  0.502316  0.589957   \n",
      "907  Fight  0.483489  0.666870 -0.689664  0.999996  0.507360  0.588808   \n",
      "908  Fight  0.485433  0.651903 -0.773182  0.999994  0.508685  0.572377   \n",
      "909  Fight  0.486177  0.651478 -0.858107  0.999982  0.510582  0.571991   \n",
      "910  Fight  0.486643  0.648064 -0.818749  0.999966  0.513067  0.569801   \n",
      "\n",
      "     column_7  column_8  column_9  ...  column_1995  column_1996  column_1997  \\\n",
      "0   -0.901327  0.998642  0.537913  ...     0.001765          0.0     0.558403   \n",
      "1   -0.919603  0.998511  0.538094  ...    -0.001878          0.0     0.558888   \n",
      "2   -0.917503  0.998430  0.538205  ...    -0.002567          0.0     0.558655   \n",
      "3   -0.916380  0.998429  0.538266  ...    -0.002039          0.0     0.558780   \n",
      "4   -0.911292  0.998407  0.538552  ...    -0.001788          0.0     0.558947   \n",
      "..        ...       ...       ...  ...          ...          ...          ...   \n",
      "906 -0.886221  0.999993  0.518642  ...    -0.005970          0.0     0.544456   \n",
      "907 -0.627272  0.999991  0.523153  ...    -0.005766          0.0     0.546775   \n",
      "908 -0.738325  0.999982  0.524081  ...    -0.004099          0.0     0.547476   \n",
      "909 -0.821595  0.999957  0.525313  ...    -0.003847          0.0     0.549310   \n",
      "910 -0.785592  0.999899  0.527980  ...    -0.004169          0.0     0.550075   \n",
      "\n",
      "     column_1998  column_1999  column_2000  column_2001  column_2002  \\\n",
      "0       0.506414     0.019434          0.0     0.563330     0.500052   \n",
      "1       0.504216     0.015673          0.0     0.563779     0.497830   \n",
      "2       0.505383     0.014867          0.0     0.563611     0.498647   \n",
      "3       0.505993     0.015232          0.0     0.563955     0.498084   \n",
      "4       0.505676     0.016318          0.0     0.564032     0.498053   \n",
      "..           ...          ...          ...          ...          ...   \n",
      "906     0.566999     0.011954          0.0     0.548864     0.562077   \n",
      "907     0.564972     0.012691          0.0     0.551221     0.560178   \n",
      "908     0.562012     0.014735          0.0     0.551924     0.557242   \n",
      "909     0.560489     0.015249          0.0     0.553731     0.555523   \n",
      "910     0.557494     0.014259          0.0     0.554649     0.552138   \n",
      "\n",
      "     column_2003  column_2004  \n",
      "0       0.020007          0.0  \n",
      "1       0.016278          0.0  \n",
      "2       0.015567          0.0  \n",
      "3       0.016068          0.0  \n",
      "4       0.017234          0.0  \n",
      "..           ...          ...  \n",
      "906     0.012354          0.0  \n",
      "907     0.013146          0.0  \n",
      "908     0.015247          0.0  \n",
      "909     0.015787          0.0  \n",
      "910     0.014792          0.0  \n",
      "\n",
      "[911 rows x 2005 columns]>\n"
     ]
    }
   ],
   "source": [
    "print(df.info())\n",
    "print()\n",
    "print(df.shape)\n",
    "print()\n",
    "print(df.describe) #Irrelevant to Study"
   ]
  },
  {
   "cell_type": "markdown",
   "id": "196d6cc5",
   "metadata": {},
   "source": [
    "### Data Preparation"
   ]
  },
  {
   "cell_type": "code",
   "execution_count": 5,
   "id": "9f7de1f6",
   "metadata": {},
   "outputs": [],
   "source": [
    "X = df.drop('class', axis=1)\n",
    "y = df['class']"
   ]
  },
  {
   "cell_type": "markdown",
   "id": "0d0bf04b",
   "metadata": {},
   "source": [
    "### Visual Analysis"
   ]
  },
  {
   "cell_type": "code",
   "execution_count": 6,
   "id": "63cfbdad",
   "metadata": {},
   "outputs": [
    {
     "data": {
      "image/png": "[encoded data removed]",
      "text/plain": [
       "<Figure size 640x480 with 1 Axes>"
      ]
     },
     "metadata": {},
     "output_type": "display_data"
    }
   ],
   "source": [
    "plot = y.value_counts().plot(kind = 'bar')\n",
    "plt.title(\"Data Distribution Among Classes\")\n",
    "plt.xlabel(\"Classes\")\n",
    "plt.ylabel(\"Count of Instances\")\n",
    "plt.show()"
   ]
  },
  {
   "cell_type": "code",
   "execution_count": 7,
   "id": "f509bbd3",
   "metadata": {},
   "outputs": [
    {
     "data": {
      "text/plain": [
       "class\n",
       "Happy         244\n",
       "Sad           243\n",
       "Victorious    235\n",
       "Fight         189\n",
       "Name: count, dtype: int64"
      ]
     },
     "execution_count": 7,
     "metadata": {},
     "output_type": "execute_result"
    }
   ],
   "source": [
    "df['class'].value_counts()"
   ]
  },
  {
   "cell_type": "markdown",
   "id": "6da16cfc",
   "metadata": {},
   "source": [
    "### Split into Training Data & Testing Data"
   ]
  },
  {
   "cell_type": "code",
   "execution_count": 8,
   "id": "0e0c60d5",
   "metadata": {},
   "outputs": [],
   "source": [
    "X_train, X_test, y_train, y_test = train_test_split(X, y, test_size=0.2, random_state=42)"
   ]
  },
  {
   "cell_type": "markdown",
   "id": "ebee1cf1",
   "metadata": {},
   "source": [
    "### Handle Imbalanced Data"
   ]
  },
  {
   "cell_type": "code",
   "execution_count": 9,
   "id": "30c1973a",
   "metadata": {},
   "outputs": [],
   "source": [
    "from imblearn.over_sampling import SMOTE\n",
    "smt = SMOTE()\n",
    "X_train, y_train = smt.fit_resample(X_train, y_train)"
   ]
  },
  {
   "cell_type": "markdown",
   "id": "d4751866",
   "metadata": {},
   "source": [
    "## Build Model"
   ]
  },
  {
   "cell_type": "markdown",
   "id": "c4c1cec2",
   "metadata": {},
   "source": [
    "### Import Necessary Libraries"
   ]
  },
  {
   "cell_type": "code",
   "execution_count": 10,
   "id": "36028483",
   "metadata": {},
   "outputs": [],
   "source": [
    "from sklearn.pipeline import make_pipeline\n",
    "from sklearn.preprocessing import StandardScaler\n",
    "\n",
    "from sklearn.linear_model import LogisticRegression, RidgeClassifier\n",
    "from sklearn.ensemble import RandomForestClassifier, GradientBoostingClassifier"
   ]
  },
  {
   "cell_type": "markdown",
   "id": "1fcb0072",
   "metadata": {},
   "source": [
    "### Design a Pipeline"
   ]
  },
  {
   "cell_type": "code",
   "execution_count": 11,
   "id": "30341078",
   "metadata": {},
   "outputs": [],
   "source": [
    "pipelines = {\n",
    "    'lr':make_pipeline(StandardScaler(), LogisticRegression()),\n",
    "    'rc':make_pipeline(StandardScaler(), RidgeClassifier()),\n",
    "    'rf':make_pipeline(StandardScaler(), RandomForestClassifier()),\n",
    "    'gb':make_pipeline(StandardScaler(), GradientBoostingClassifier())\n",
    "}"
   ]
  },
  {
   "cell_type": "markdown",
   "id": "4f8b3e6a",
   "metadata": {},
   "source": [
    "### Train the Models"
   ]
  },
  {
   "cell_type": "code",
   "execution_count": 12,
   "id": "36fb44fd",
   "metadata": {},
   "outputs": [],
   "source": [
    "fit_models = {}\n",
    "for algo, pipeline in pipelines.items():\n",
    "    model = pipeline.fit(X_train, y_train)\n",
    "    fit_models[algo] = model"
   ]
  },
  {
   "cell_type": "markdown",
   "id": "6424cb2b",
   "metadata": {},
   "source": [
    "## Deploy Model"
   ]
  },
  {
   "cell_type": "markdown",
   "id": "81564bc4",
   "metadata": {},
   "source": [
    "### Import Necessary Libraries"
   ]
  },
  {
   "cell_type": "code",
   "execution_count": 13,
   "id": "e7db13c4",
   "metadata": {},
   "outputs": [],
   "source": [
    "from sklearn.metrics import accuracy_score #Accuracy metrics\n",
    "import pickle"
   ]
  },
  {
   "cell_type": "markdown",
   "id": "15cf2bdc",
   "metadata": {},
   "source": [
    "### Evaluate the Models"
   ]
  },
  {
   "cell_type": "code",
   "execution_count": 14,
   "id": "dae3276f",
   "metadata": {},
   "outputs": [
    {
     "name": "stdout",
     "output_type": "stream",
     "text": [
      "lr: Accuracy = 1.0\n",
      "rc: Accuracy = 1.0\n",
      "rf: Accuracy = 1.0\n",
      "gb: Accuracy = 1.0\n"
     ]
    }
   ],
   "source": [
    "for algo, model in fit_models.items():\n",
    "    yhat = model.predict(X_test)\n",
    "    acc = accuracy_score(y_test, yhat)\n",
    "    print(f\"{algo}: Accuracy = {acc}\")\n"
   ]
  },
  {
   "cell_type": "markdown",
   "id": "0c822d0e",
   "metadata": {},
   "source": [
    "### Save the Model"
   ]
  },
  {
   "cell_type": "code",
   "execution_count": 15,
   "id": "014815ef",
   "metadata": {},
   "outputs": [],
   "source": [
    "with open('/Users/snehavinothkumar/VS Code/AI_Body_Language_Detector/Model/body_language.pkl', 'wb') as file:\n",
    "    pickle.dump(fit_models['gb'],file)\n",
    "    "
   ]
  }
 ],
 "metadata": {
  "kernelspec": {
   "display_name": ".venv",
   "language": "python",
   "name": "python3"
  },
  "language_info": {
   "codemirror_mode": {
    "name": "ipython",
    "version": 3
   },
   "file_extension": ".py",
   "mimetype": "text/x-python",
   "name": "python",
   "nbconvert_exporter": "python",
   "pygments_lexer": "ipython3",
   "version": "3.10.18"
  }
 },
 "nbformat": 4,
 "nbformat_minor": 5
}
